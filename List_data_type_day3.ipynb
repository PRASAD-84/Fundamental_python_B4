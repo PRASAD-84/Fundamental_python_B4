{
 "cells": [
  {
   "cell_type": "code",
   "execution_count": null,
   "metadata": {},
   "outputs": [],
   "source": [
    "# LIST DATA TYPE\n",
    "# List is an mutable data type\n",
    "# A List is a collection of particular items in an order\n",
    "# Define a list ex:[x,y,z]"
   ]
  },
  {
   "cell_type": "code",
   "execution_count": 1,
   "metadata": {},
   "outputs": [
    {
     "name": "stdout",
     "output_type": "stream",
     "text": [
      "['ranger', 'hero', 'redline', 'trek']\n"
     ]
    }
   ],
   "source": [
    "bicycles = ['ranger','hero','redline','trek']\n",
    "print(bicycles)"
   ]
  },
  {
   "cell_type": "code",
   "execution_count": 4,
   "metadata": {},
   "outputs": [
    {
     "name": "stdout",
     "output_type": "stream",
     "text": [
      "hero\n",
      "trek\n",
      "trek\n"
     ]
    }
   ],
   "source": [
    "# to access elements in a List\n",
    "print(bicycles[1])\n",
    "#we print last element in a List we are using both cases\n",
    "print(bicycles[3]) \n",
    "print(bicycles[-1])"
   ]
  },
  {
   "cell_type": "code",
   "execution_count": 5,
   "metadata": {},
   "outputs": [
    {
     "name": "stdout",
     "output_type": "stream",
     "text": [
      "Ranger\n"
     ]
    }
   ],
   "source": [
    "#how to maintain a proper formatting order\n",
    "\n",
    "print(bicycles[0].title())"
   ]
  },
  {
   "cell_type": "code",
   "execution_count": 7,
   "metadata": {},
   "outputs": [
    {
     "name": "stdout",
     "output_type": "stream",
     "text": [
      "my first bicycle was a Hero\n"
     ]
    }
   ],
   "source": [
    "#print custome messages\n",
    "\n",
    "bicycles = ['ranger','hero','redline','trek']\n",
    "message = f\"my first bicycle was a {bicycles[1].title()}\"\n",
    "print(message)"
   ]
  },
  {
   "cell_type": "code",
   "execution_count": 11,
   "metadata": {},
   "outputs": [
    {
     "name": "stdout",
     "output_type": "stream",
     "text": [
      "['honda', 'hero', 'yamaha', 'suzuki']\n",
      "['ducati', 'hero', 'yamaha', 'suzuki']\n"
     ]
    }
   ],
   "source": [
    "# how to change a elements in a List\n",
    "\n",
    "motorcycles = ['honda','hero','yamaha','suzuki']\n",
    "print(motorcycles)\n",
    "motorcycles[0] = 'ducati'\n",
    "print(motorcycles)"
   ]
  },
  {
   "cell_type": "code",
   "execution_count": null,
   "metadata": {},
   "outputs": [],
   "source": []
  }
 ],
 "metadata": {
  "kernelspec": {
   "display_name": "Python 3",
   "language": "python",
   "name": "python3"
  },
  "language_info": {
   "codemirror_mode": {
    "name": "ipython",
    "version": 3
   },
   "file_extension": ".py",
   "mimetype": "text/x-python",
   "name": "python",
   "nbconvert_exporter": "python",
   "pygments_lexer": "ipython3",
   "version": "3.7.3"
  }
 },
 "nbformat": 4,
 "nbformat_minor": 2
}
