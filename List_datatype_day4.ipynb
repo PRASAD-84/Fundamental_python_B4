{
 "cells": [
  {
   "cell_type": "code",
   "execution_count": 6,
   "metadata": {},
   "outputs": [
    {
     "name": "stdout",
     "output_type": "stream",
     "text": [
      "['honda', 'yamaha', 'suzuki']\n",
      "['ducati', 'yamaha', 'suzuki']\n",
      "['ducati', 'yamaha', 'suzuki', 'hero']\n",
      "['ducati', 'yamaha', 'honda', 'suzuki', 'hero']\n",
      "['divya', 'prasad', 'sri', 'hema', 'mahesh']\n",
      "['divya', 'prasad', 'sri', 'hema']\n"
     ]
    }
   ],
   "source": [
    "# Changing,Adding and removing the elements from the list\n",
    "\n",
    "motorcycles = ['honda','yamaha','suzuki']\n",
    "print(motorcycles)\n",
    "\n",
    "#change the elements from the list\n",
    "\n",
    "motorcycles[0] = 'ducati'\n",
    "print(motorcycles)\n",
    "\n",
    "#Adding element to the list:we need to add'hero' brand to the motorcycles list\n",
    "\n",
    "motorcycles.append('hero')\n",
    "print(motorcycles)\n",
    "\n",
    "#i want to adding 2nd indexing position 'honda'\n",
    "\n",
    "motorcycles.insert(2,'honda')\n",
    "print(motorcycles)\n",
    "\n",
    "#removing elements from a list\n",
    "\n",
    "fundamental_python = []\n",
    "fundamental_python.append('divya')\n",
    "fundamental_python.append('prasad')\n",
    "fundamental_python.append('sri')\n",
    "fundamental_python.append('hema')\n",
    "fundamental_python.append('mahesh')\n",
    "print(fundamental_python)\n",
    "\n",
    "del fundamental_python[4]\n",
    "print(fundamental_python)"
   ]
  },
  {
   "cell_type": "code",
   "execution_count": null,
   "metadata": {},
   "outputs": [],
   "source": []
  }
 ],
 "metadata": {
  "kernelspec": {
   "display_name": "Python 3",
   "language": "python",
   "name": "python3"
  },
  "language_info": {
   "codemirror_mode": {
    "name": "ipython",
    "version": 3
   },
   "file_extension": ".py",
   "mimetype": "text/x-python",
   "name": "python",
   "nbconvert_exporter": "python",
   "pygments_lexer": "ipython3",
   "version": "3.7.3"
  }
 },
 "nbformat": 4,
 "nbformat_minor": 2
}
