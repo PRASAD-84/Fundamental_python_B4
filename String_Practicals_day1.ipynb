{
 "cells": [
  {
   "cell_type": "code",
   "execution_count": 3,
   "metadata": {},
   "outputs": [
    {
     "name": "stdout",
     "output_type": "stream",
     "text": [
      "python_class_single_quotes\n"
     ]
    }
   ],
   "source": [
    "# string is an immutable data type\n",
    "# string declaration!!:-3 possible ways we can declare a string(by using single quotes,double quotes,thriple quotes)\n",
    "s = 'python_class_single_quotes'\n",
    "print(s)"
   ]
  },
  {
   "cell_type": "code",
   "execution_count": 2,
   "metadata": {},
   "outputs": [
    {
     "name": "stdout",
     "output_type": "stream",
     "text": [
      "double_quotes\n"
     ]
    }
   ],
   "source": [
    "x = \"double_quotes\"\n",
    "print(x)"
   ]
  },
  {
   "cell_type": "code",
   "execution_count": 6,
   "metadata": {},
   "outputs": [
    {
     "name": "stdout",
     "output_type": "stream",
     "text": [
      "python_funamentals\n"
     ]
    }
   ],
   "source": [
    "y = \"\"\"python_funamentals\"\"\"\n",
    "print(y)"
   ]
  },
  {
   "cell_type": "code",
   "execution_count": 11,
   "metadata": {},
   "outputs": [
    {
     "name": "stdout",
     "output_type": "stream",
     "text": [
      "mango\n",
      "man\n",
      "an\n",
      "go\n"
     ]
    }
   ],
   "source": [
    "# how to access the string declaration\n",
    "#requirement:-1 \n",
    "#to print 'man' outof mango,to print an outof mango,to print go outof mango\n",
    "#here we follow indexing concept(......0,1,2,3....)\n",
    "#+ve indexing\n",
    "a = 'mango'\n",
    "print(a)\n",
    "print(a[0:3])\n",
    "print(a[1:3])\n",
    "print(a[3:5])"
   ]
  },
  {
   "cell_type": "code",
   "execution_count": 15,
   "metadata": {},
   "outputs": [
    {
     "name": "stdout",
     "output_type": "stream",
     "text": [
      "mango\n",
      "o\n",
      "o\n",
      "g\n"
     ]
    }
   ],
   "source": [
    "#-ve indexing\n",
    "a = 'mango'\n",
    "print(a)\n",
    "print(a[4])\n",
    "print(a[-1])\n",
    "print(a[-2])"
   ]
  },
  {
   "cell_type": "code",
   "execution_count": 17,
   "metadata": {},
   "outputs": [
    {
     "name": "stdout",
     "output_type": "stream",
     "text": [
      "hell\n",
      "world\n"
     ]
    }
   ],
   "source": [
    "#requirement:-2 \n",
    "#without giving the start value print 'hell'....?4 end value\n",
    "#print only world without the end value?\n",
    "s = 'hello world'\n",
    "print(s[:4])\n",
    "print(s[6:])"
   ]
  },
  {
   "cell_type": "code",
   "execution_count": 22,
   "metadata": {},
   "outputs": [
    {
     "name": "stdout",
     "output_type": "stream",
     "text": [
      "python class\n",
      "Python Class\n",
      "PYTHON CLASS\n",
      "python class\n"
     ]
    }
   ],
   "source": [
    "# Builtin functions of a string\n",
    "#1.title()\n",
    "#2.upper()\n",
    "#3.lower()\n",
    "\n",
    "name = 'python class'\n",
    "print(name)\n",
    "print(name.title())\n",
    "print(name.upper())\n",
    "print(name.lower())"
   ]
  },
  {
   "cell_type": "code",
   "execution_count": 27,
   "metadata": {},
   "outputs": [
    {
     "name": "stdout",
     "output_type": "stream",
     "text": [
      "anusha p\n"
     ]
    }
   ],
   "source": [
    "#using of placeholders by using f string\n",
    "first_name = 'anusha'\n",
    "last_name = 'p'\n",
    "full_name = f\"{first_name} {last_name}\"\n",
    "print(full_name)"
   ]
  },
  {
   "cell_type": "code",
   "execution_count": 30,
   "metadata": {},
   "outputs": [
    {
     "name": "stdout",
     "output_type": "stream",
     "text": [
      "python\n",
      " python\n",
      "\tpython\n"
     ]
    }
   ],
   "source": [
    "#adding white spaces to strings with tabs or new lines\n",
    "\n",
    "print('python')\n",
    "print(' python')\n",
    "print('\\tpython')"
   ]
  },
  {
   "cell_type": "code",
   "execution_count": 31,
   "metadata": {},
   "outputs": [
    {
     "name": "stdout",
     "output_type": "stream",
     "text": [
      "languages:\n",
      "python\n",
      "hadoop\n",
      "spark\n",
      "scala\n",
      "hive\n"
     ]
    }
   ],
   "source": [
    "# for adding a new line \n",
    "# \\n for printing the words in a new line\n",
    "\n",
    "print(\"languages:\\npython\\nhadoop\\nspark\\nscala\\nhive\")"
   ]
  },
  {
   "cell_type": "code",
   "execution_count": null,
   "metadata": {},
   "outputs": [],
   "source": []
  }
 ],
 "metadata": {
  "kernelspec": {
   "display_name": "Python 3",
   "language": "python",
   "name": "python3"
  },
  "language_info": {
   "codemirror_mode": {
    "name": "ipython",
    "version": 3
   },
   "file_extension": ".py",
   "mimetype": "text/x-python",
   "name": "python",
   "nbconvert_exporter": "python",
   "pygments_lexer": "ipython3",
   "version": "3.7.3"
  }
 },
 "nbformat": 4,
 "nbformat_minor": 2
}
